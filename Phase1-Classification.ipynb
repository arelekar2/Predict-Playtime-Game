{
 "cells": [
  {
   "cell_type": "markdown",
   "metadata": {},
   "source": [
    "## 1) Import modules"
   ]
  },
  {
   "cell_type": "code",
   "execution_count": 448,
   "metadata": {},
   "outputs": [],
   "source": [
    "# numpy and pandas for data manipulation\n",
    "import numpy as np\n",
    "import pandas as pd\n",
    "pd.set_option('display.max_columns', None)\n",
    "pd.set_option('display.max_rows', None)\n",
    "pd.set_option('display.max_colwidth', -1)\n",
    "\n",
    "# Suppress warnings \n",
    "import warnings\n",
    "warnings.filterwarnings('ignore')\n",
    "\n",
    "# matplotlib and seaborn for plotting\n",
    "import matplotlib.pyplot as plt\n",
    "import seaborn as sns\n",
    "\n",
    "from sklearn import metrics\n",
    "from sklearn.model_selection import StratifiedKFold\n",
    "from sklearn.model_selection import cross_val_score\n",
    "from sklearn.feature_selection import RFE\n",
    "\n",
    "from sklearn.ensemble import RandomForestClassifier\n",
    "from sklearn.ensemble import ExtraTreesClassifier\n",
    "from sklearn.preprocessing import StandardScaler\n",
    "from sklearn.preprocessing import MinMaxScaler\n",
    "from sklearn.model_selection import train_test_split\n",
    "\n",
    "from xgboost import XGBClassifier"
   ]
  },
  {
   "cell_type": "markdown",
   "metadata": {},
   "source": [
    "## 2) Load Data"
   ]
  },
  {
   "cell_type": "code",
   "execution_count": 449,
   "metadata": {},
   "outputs": [
    {
     "name": "stdout",
     "output_type": "stream",
     "text": [
      "shape:  (328, 278)\n",
      "shape:  (328,)\n",
      "shape:  (90, 278)\n"
     ]
    }
   ],
   "source": [
    "# Reading the data\n",
    "X = pd.read_csv('Cleaned Data/X.csv',  index_col='id')\n",
    "Y = pd.read_csv('Cleaned Data/Y.csv',  index_col='id', squeeze=True) # squeezes DF into Series\n",
    "X_test = pd.read_csv('Cleaned Data/X_test.csv',  index_col='id')\n",
    "\n",
    "for data in [X,Y,X_test]:\n",
    "    print('shape: ', data.shape)"
   ]
  },
  {
   "cell_type": "markdown",
   "metadata": {},
   "source": [
    "### Convert Continuous data to multiclass data"
   ]
  },
  {
   "cell_type": "code",
   "execution_count": 450,
   "metadata": {
    "scrolled": true
   },
   "outputs": [
    {
     "name": "stdout",
     "output_type": "stream",
     "text": [
      "1.0    0.52439\n",
      "0.0    0.47561\n",
      "Name: playtime_forever, dtype: float64\n"
     ]
    }
   ],
   "source": [
    "Y[Y>0] = 1\n",
    "\n",
    "# See the distribution target column\n",
    "print(Y.value_counts(normalize=True))"
   ]
  },
  {
   "cell_type": "markdown",
   "metadata": {},
   "source": [
    "## 3) Splitting the dataset into Training set and Test set"
   ]
  },
  {
   "cell_type": "code",
   "execution_count": 451,
   "metadata": {},
   "outputs": [
    {
     "data": {
      "image/png": "[encoded data removed]",
      "text/plain": [
       "<Figure size 1080x288 with 2 Axes>"
      ]
     },
     "metadata": {
      "needs_background": "light"
     },
     "output_type": "display_data"
    }
   ],
   "source": [
    "# Dataset split with stratification\n",
    "\n",
    "X_train, X_val, Y_train, Y_val = train_test_split(X,Y, test_size=0.2, random_state=0)\n",
    "\n",
    "fig, (ax1, ax2) = plt.subplots(1, 2, figsize=(15,4), sharey=True)\n",
    "ax1.plot(np.sort(Y_train))\n",
    "ax1.set_title('Y_train')\n",
    "ax1.grid()\n",
    "\n",
    "ax2.plot(np.sort(Y_val))\n",
    "ax2.set_title('Y_val')\n",
    "ax2.grid()\n",
    "\n",
    "plt.show()"
   ]
  },
  {
   "cell_type": "markdown",
   "metadata": {},
   "source": [
    "## 4) Feature Selection (WrapperMethod)"
   ]
  },
  {
   "cell_type": "code",
   "execution_count": 452,
   "metadata": {},
   "outputs": [
    {
     "name": "stdout",
     "output_type": "stream",
     "text": [
      "['tags_horror', 'release_date_month', 'tags_multiplayer', 'genres_action', 'purchase_date_month', 'categories_shared/split_screen', 'tags_rpg', 'purchase_date_timestamp', 'tags_gore', 'tags_difficult', 'purchase_date_year', 'tags_online_co-op', 'tags_open_world', 'price', 'tags_sci-fi', 'categories_co-op', 'tags_massively_multiplayer', 'tags_local_co-op', 'genres_casual', 'tags_survival', 'tags_sandbox', 'release_date_timestamp', 'tags_casual', 'total_positive_reviews', 'release_date_day', 'purchase_date_day', 'date_diff', 'genres_rpg', 'tags_simulation', 'categories_steam_trading_cards', 'tags_classic', 'is_free', 'tags_co-op', 'tags_funny', 'tags_early_access', 'tags_puzzle', 'release_date_year', 'tags_point_&_click', 'tags_vr', 'total_negative_reviews']\n"
     ]
    }
   ],
   "source": [
    "model = LogisticRegression(solver='lbfgs', multi_class='multinomial', max_iter=1000)\n",
    "rfe = RFE(model, 40)\n",
    "fit = rfe.fit(X, Y)\n",
    "best_features = X.columns[fit.support_].tolist()\n",
    "print(best_features)\n",
    "\n",
    "# best_features = ['purchase_date_year', 'purchase_date_month', 'tags_puzzle', 'tags_co-op', 'tags_sandbox', \n",
    "#                  'purchase_date_day', 'date_diff', 'tags_sci-fi', 'tags_point_&_click', 'price', 'release_date_month',\n",
    "#                  'release_date_year', 'tags_open_world', 'total_positive_reviews', 'release_date_timestamp', \n",
    "#                  'tags_casual', 'tags_massively_multiplayer', 'total_negative_reviews', 'tags_rpg', 'genres_rpg', \n",
    "#                  'tags_horror', 'release_date_day', 'purchase_date_timestamp', 'tags_simulation']"
   ]
  },
  {
   "cell_type": "code",
   "execution_count": 453,
   "metadata": {},
   "outputs": [
    {
     "data": {
      "text/html": [
       "<div>\n",
       "<style scoped>\n",
       "    .dataframe tbody tr th:only-of-type {\n",
       "        vertical-align: middle;\n",
       "    }\n",
       "\n",
       "    .dataframe tbody tr th {\n",
       "        vertical-align: top;\n",
       "    }\n",
       "\n",
       "    .dataframe thead th {\n",
       "        text-align: right;\n",
       "    }\n",
       "</style>\n",
       "<table border=\"1\" class=\"dataframe\">\n",
       "  <thead>\n",
       "    <tr style=\"text-align: right;\">\n",
       "      <th></th>\n",
       "      <th>tags_horror</th>\n",
       "      <th>release_date_month</th>\n",
       "      <th>tags_multiplayer</th>\n",
       "      <th>genres_action</th>\n",
       "      <th>purchase_date_month</th>\n",
       "      <th>categories_shared/split_screen</th>\n",
       "      <th>tags_rpg</th>\n",
       "      <th>purchase_date_timestamp</th>\n",
       "      <th>tags_gore</th>\n",
       "      <th>tags_difficult</th>\n",
       "      <th>purchase_date_year</th>\n",
       "      <th>tags_online_co-op</th>\n",
       "      <th>tags_open_world</th>\n",
       "      <th>price</th>\n",
       "      <th>tags_sci-fi</th>\n",
       "      <th>categories_co-op</th>\n",
       "      <th>tags_massively_multiplayer</th>\n",
       "      <th>tags_local_co-op</th>\n",
       "      <th>genres_casual</th>\n",
       "      <th>tags_survival</th>\n",
       "      <th>tags_sandbox</th>\n",
       "      <th>release_date_timestamp</th>\n",
       "      <th>tags_casual</th>\n",
       "      <th>total_positive_reviews</th>\n",
       "      <th>release_date_day</th>\n",
       "      <th>purchase_date_day</th>\n",
       "      <th>date_diff</th>\n",
       "      <th>genres_rpg</th>\n",
       "      <th>tags_simulation</th>\n",
       "      <th>categories_steam_trading_cards</th>\n",
       "      <th>tags_classic</th>\n",
       "      <th>is_free</th>\n",
       "      <th>tags_co-op</th>\n",
       "      <th>tags_funny</th>\n",
       "      <th>tags_early_access</th>\n",
       "      <th>tags_puzzle</th>\n",
       "      <th>release_date_year</th>\n",
       "      <th>tags_point_&amp;_click</th>\n",
       "      <th>tags_vr</th>\n",
       "      <th>total_negative_reviews</th>\n",
       "    </tr>\n",
       "    <tr>\n",
       "      <th>id</th>\n",
       "      <th></th>\n",
       "      <th></th>\n",
       "      <th></th>\n",
       "      <th></th>\n",
       "      <th></th>\n",
       "      <th></th>\n",
       "      <th></th>\n",
       "      <th></th>\n",
       "      <th></th>\n",
       "      <th></th>\n",
       "      <th></th>\n",
       "      <th></th>\n",
       "      <th></th>\n",
       "      <th></th>\n",
       "      <th></th>\n",
       "      <th></th>\n",
       "      <th></th>\n",
       "      <th></th>\n",
       "      <th></th>\n",
       "      <th></th>\n",
       "      <th></th>\n",
       "      <th></th>\n",
       "      <th></th>\n",
       "      <th></th>\n",
       "      <th></th>\n",
       "      <th></th>\n",
       "      <th></th>\n",
       "      <th></th>\n",
       "      <th></th>\n",
       "      <th></th>\n",
       "      <th></th>\n",
       "      <th></th>\n",
       "      <th></th>\n",
       "      <th></th>\n",
       "      <th></th>\n",
       "      <th></th>\n",
       "      <th></th>\n",
       "      <th></th>\n",
       "      <th></th>\n",
       "      <th></th>\n",
       "    </tr>\n",
       "  </thead>\n",
       "  <tbody>\n",
       "    <tr>\n",
       "      <td>1</td>\n",
       "      <td>0</td>\n",
       "      <td>8</td>\n",
       "      <td>0</td>\n",
       "      <td>0</td>\n",
       "      <td>11</td>\n",
       "      <td>0</td>\n",
       "      <td>1</td>\n",
       "      <td>1.480118e+09</td>\n",
       "      <td>0</td>\n",
       "      <td>0</td>\n",
       "      <td>2016</td>\n",
       "      <td>0</td>\n",
       "      <td>0</td>\n",
       "      <td>0.0</td>\n",
       "      <td>0</td>\n",
       "      <td>0</td>\n",
       "      <td>0</td>\n",
       "      <td>0</td>\n",
       "      <td>0</td>\n",
       "      <td>0</td>\n",
       "      <td>0</td>\n",
       "      <td>1.439338e+09</td>\n",
       "      <td>0</td>\n",
       "      <td>3.178054</td>\n",
       "      <td>12</td>\n",
       "      <td>26</td>\n",
       "      <td>472</td>\n",
       "      <td>1</td>\n",
       "      <td>0</td>\n",
       "      <td>0</td>\n",
       "      <td>0</td>\n",
       "      <td>1</td>\n",
       "      <td>0</td>\n",
       "      <td>0</td>\n",
       "      <td>0</td>\n",
       "      <td>0</td>\n",
       "      <td>2015</td>\n",
       "      <td>0</td>\n",
       "      <td>0</td>\n",
       "      <td>0.000000</td>\n",
       "    </tr>\n",
       "    <tr>\n",
       "      <td>298</td>\n",
       "      <td>1</td>\n",
       "      <td>3</td>\n",
       "      <td>0</td>\n",
       "      <td>0</td>\n",
       "      <td>11</td>\n",
       "      <td>0</td>\n",
       "      <td>1</td>\n",
       "      <td>1.542758e+09</td>\n",
       "      <td>0</td>\n",
       "      <td>0</td>\n",
       "      <td>2018</td>\n",
       "      <td>0</td>\n",
       "      <td>0</td>\n",
       "      <td>9800.0</td>\n",
       "      <td>0</td>\n",
       "      <td>0</td>\n",
       "      <td>0</td>\n",
       "      <td>0</td>\n",
       "      <td>0</td>\n",
       "      <td>0</td>\n",
       "      <td>0</td>\n",
       "      <td>1.520899e+09</td>\n",
       "      <td>0</td>\n",
       "      <td>7.175490</td>\n",
       "      <td>13</td>\n",
       "      <td>21</td>\n",
       "      <td>253</td>\n",
       "      <td>1</td>\n",
       "      <td>0</td>\n",
       "      <td>1</td>\n",
       "      <td>0</td>\n",
       "      <td>0</td>\n",
       "      <td>0</td>\n",
       "      <td>0</td>\n",
       "      <td>0</td>\n",
       "      <td>1</td>\n",
       "      <td>2018</td>\n",
       "      <td>1</td>\n",
       "      <td>0</td>\n",
       "      <td>5.556828</td>\n",
       "    </tr>\n",
       "    <tr>\n",
       "      <td>8</td>\n",
       "      <td>0</td>\n",
       "      <td>10</td>\n",
       "      <td>0</td>\n",
       "      <td>1</td>\n",
       "      <td>12</td>\n",
       "      <td>0</td>\n",
       "      <td>0</td>\n",
       "      <td>1.513901e+09</td>\n",
       "      <td>0</td>\n",
       "      <td>0</td>\n",
       "      <td>2017</td>\n",
       "      <td>0</td>\n",
       "      <td>0</td>\n",
       "      <td>8800.0</td>\n",
       "      <td>0</td>\n",
       "      <td>0</td>\n",
       "      <td>0</td>\n",
       "      <td>0</td>\n",
       "      <td>0</td>\n",
       "      <td>0</td>\n",
       "      <td>0</td>\n",
       "      <td>1.508198e+09</td>\n",
       "      <td>0</td>\n",
       "      <td>3.871201</td>\n",
       "      <td>17</td>\n",
       "      <td>22</td>\n",
       "      <td>66</td>\n",
       "      <td>0</td>\n",
       "      <td>0</td>\n",
       "      <td>0</td>\n",
       "      <td>0</td>\n",
       "      <td>0</td>\n",
       "      <td>0</td>\n",
       "      <td>0</td>\n",
       "      <td>0</td>\n",
       "      <td>1</td>\n",
       "      <td>2017</td>\n",
       "      <td>0</td>\n",
       "      <td>1</td>\n",
       "      <td>2.484907</td>\n",
       "    </tr>\n",
       "    <tr>\n",
       "      <td>213</td>\n",
       "      <td>0</td>\n",
       "      <td>1</td>\n",
       "      <td>1</td>\n",
       "      <td>1</td>\n",
       "      <td>4</td>\n",
       "      <td>1</td>\n",
       "      <td>1</td>\n",
       "      <td>1.491782e+09</td>\n",
       "      <td>0</td>\n",
       "      <td>1</td>\n",
       "      <td>2017</td>\n",
       "      <td>1</td>\n",
       "      <td>0</td>\n",
       "      <td>3600.0</td>\n",
       "      <td>0</td>\n",
       "      <td>1</td>\n",
       "      <td>0</td>\n",
       "      <td>1</td>\n",
       "      <td>0</td>\n",
       "      <td>0</td>\n",
       "      <td>0</td>\n",
       "      <td>1.295914e+09</td>\n",
       "      <td>0</td>\n",
       "      <td>9.426419</td>\n",
       "      <td>25</td>\n",
       "      <td>10</td>\n",
       "      <td>2267</td>\n",
       "      <td>1</td>\n",
       "      <td>0</td>\n",
       "      <td>1</td>\n",
       "      <td>0</td>\n",
       "      <td>0</td>\n",
       "      <td>1</td>\n",
       "      <td>1</td>\n",
       "      <td>0</td>\n",
       "      <td>0</td>\n",
       "      <td>2011</td>\n",
       "      <td>0</td>\n",
       "      <td>0</td>\n",
       "      <td>7.196687</td>\n",
       "    </tr>\n",
       "    <tr>\n",
       "      <td>101</td>\n",
       "      <td>0</td>\n",
       "      <td>11</td>\n",
       "      <td>1</td>\n",
       "      <td>1</td>\n",
       "      <td>4</td>\n",
       "      <td>0</td>\n",
       "      <td>0</td>\n",
       "      <td>1.555200e+09</td>\n",
       "      <td>1</td>\n",
       "      <td>0</td>\n",
       "      <td>2019</td>\n",
       "      <td>0</td>\n",
       "      <td>0</td>\n",
       "      <td>7000.0</td>\n",
       "      <td>0</td>\n",
       "      <td>0</td>\n",
       "      <td>0</td>\n",
       "      <td>0</td>\n",
       "      <td>0</td>\n",
       "      <td>1</td>\n",
       "      <td>0</td>\n",
       "      <td>1.510790e+09</td>\n",
       "      <td>0</td>\n",
       "      <td>8.048788</td>\n",
       "      <td>16</td>\n",
       "      <td>14</td>\n",
       "      <td>514</td>\n",
       "      <td>0</td>\n",
       "      <td>1</td>\n",
       "      <td>1</td>\n",
       "      <td>0</td>\n",
       "      <td>0</td>\n",
       "      <td>1</td>\n",
       "      <td>0</td>\n",
       "      <td>1</td>\n",
       "      <td>0</td>\n",
       "      <td>2017</td>\n",
       "      <td>0</td>\n",
       "      <td>0</td>\n",
       "      <td>6.390241</td>\n",
       "    </tr>\n",
       "  </tbody>\n",
       "</table>\n",
       "</div>"
      ],
      "text/plain": [
       "     tags_horror  release_date_month  tags_multiplayer  genres_action  \\\n",
       "id                                                                      \n",
       "1    0            8                   0                 0               \n",
       "298  1            3                   0                 0               \n",
       "8    0            10                  0                 1               \n",
       "213  0            1                   1                 1               \n",
       "101  0            11                  1                 1               \n",
       "\n",
       "     purchase_date_month  categories_shared/split_screen  tags_rpg  \\\n",
       "id                                                                   \n",
       "1    11                   0                               1          \n",
       "298  11                   0                               1          \n",
       "8    12                   0                               0          \n",
       "213  4                    1                               1          \n",
       "101  4                    0                               0          \n",
       "\n",
       "     purchase_date_timestamp  tags_gore  tags_difficult  purchase_date_year  \\\n",
       "id                                                                            \n",
       "1    1.480118e+09             0          0               2016                 \n",
       "298  1.542758e+09             0          0               2018                 \n",
       "8    1.513901e+09             0          0               2017                 \n",
       "213  1.491782e+09             0          1               2017                 \n",
       "101  1.555200e+09             1          0               2019                 \n",
       "\n",
       "     tags_online_co-op  tags_open_world   price  tags_sci-fi  \\\n",
       "id                                                             \n",
       "1    0                  0                0.0     0             \n",
       "298  0                  0                9800.0  0             \n",
       "8    0                  0                8800.0  0             \n",
       "213  1                  0                3600.0  0             \n",
       "101  0                  0                7000.0  0             \n",
       "\n",
       "     categories_co-op  tags_massively_multiplayer  tags_local_co-op  \\\n",
       "id                                                                    \n",
       "1    0                 0                           0                  \n",
       "298  0                 0                           0                  \n",
       "8    0                 0                           0                  \n",
       "213  1                 0                           1                  \n",
       "101  0                 0                           0                  \n",
       "\n",
       "     genres_casual  tags_survival  tags_sandbox  release_date_timestamp  \\\n",
       "id                                                                        \n",
       "1    0              0              0             1.439338e+09             \n",
       "298  0              0              0             1.520899e+09             \n",
       "8    0              0              0             1.508198e+09             \n",
       "213  0              0              0             1.295914e+09             \n",
       "101  0              1              0             1.510790e+09             \n",
       "\n",
       "     tags_casual  total_positive_reviews  release_date_day  purchase_date_day  \\\n",
       "id                                                                              \n",
       "1    0            3.178054                12                26                  \n",
       "298  0            7.175490                13                21                  \n",
       "8    0            3.871201                17                22                  \n",
       "213  0            9.426419                25                10                  \n",
       "101  0            8.048788                16                14                  \n",
       "\n",
       "     date_diff  genres_rpg  tags_simulation  categories_steam_trading_cards  \\\n",
       "id                                                                            \n",
       "1    472        1           0                0                                \n",
       "298  253        1           0                1                                \n",
       "8    66         0           0                0                                \n",
       "213  2267       1           0                1                                \n",
       "101  514        0           1                1                                \n",
       "\n",
       "     tags_classic  is_free  tags_co-op  tags_funny  tags_early_access  \\\n",
       "id                                                                      \n",
       "1    0             1        0           0           0                   \n",
       "298  0             0        0           0           0                   \n",
       "8    0             0        0           0           0                   \n",
       "213  0             0        1           1           0                   \n",
       "101  0             0        1           0           1                   \n",
       "\n",
       "     tags_puzzle  release_date_year  tags_point_&_click  tags_vr  \\\n",
       "id                                                                 \n",
       "1    0            2015               0                   0         \n",
       "298  1            2018               1                   0         \n",
       "8    1            2017               0                   1         \n",
       "213  0            2011               0                   0         \n",
       "101  0            2017               0                   0         \n",
       "\n",
       "     total_negative_reviews  \n",
       "id                           \n",
       "1    0.000000                \n",
       "298  5.556828                \n",
       "8    2.484907                \n",
       "213  7.196687                \n",
       "101  6.390241                "
      ]
     },
     "execution_count": 453,
     "metadata": {},
     "output_type": "execute_result"
    }
   ],
   "source": [
    "X_train = X_train[best_features].copy()\n",
    "X_val = X_val[best_features].copy()\n",
    "\n",
    "X_test = X_test[best_features].copy()\n",
    "\n",
    "X_train.head()"
   ]
  },
  {
   "cell_type": "markdown",
   "metadata": {},
   "source": [
    "## 5) Fit & Evaluation"
   ]
  },
  {
   "cell_type": "code",
   "execution_count": 454,
   "metadata": {},
   "outputs": [
    {
     "name": "stdout",
     "output_type": "stream",
     "text": [
      "Fitting 3 folds for each of 20 candidates, totalling 60 fits\n"
     ]
    },
    {
     "name": "stderr",
     "output_type": "stream",
     "text": [
      "[Parallel(n_jobs=-1)]: Using backend LokyBackend with 4 concurrent workers.\n"
     ]
    },
    {
     "name": "stdout",
     "output_type": "stream",
     "text": [
      "XGBClassifier(C=0.001, base_score=0.5, booster='gbtree', colsample_bylevel=1,\n",
      "              colsample_bynode=1, colsample_bytree=1, gamma=0,\n",
      "              learning_rate=0.1, max_delta_step=0, max_depth=3,\n",
      "              min_child_weight=1, missing=None, n_estimators=100, n_jobs=1,\n",
      "              nthread=None, objective='binary:logistic', penalty='l1',\n",
      "              random_state=0, reg_alpha=0, reg_lambda=1, scale_pos_weight=1,\n",
      "              seed=None, silent=None, subsample=1, verbosity=1)\n",
      "Accuracy: 0.7575757575757576\n",
      "[[27  7]\n",
      " [ 9 23]]\n"
     ]
    },
    {
     "name": "stderr",
     "output_type": "stream",
     "text": [
      "[Parallel(n_jobs=-1)]: Done  60 out of  60 | elapsed:    1.6s finished\n"
     ]
    }
   ],
   "source": [
    "parameters_for_testing = {\n",
    "   \"max_depth\":[1,2,3],\n",
    "    \"gamma\":[1,2,3],\n",
    "    \"eta\":[0.5,0.8,1.0],\n",
    "    \"reg_alpha\":[0.1,0.5,1],\n",
    "    \"reg_lambda\":[0.1,0.5,1]\n",
    "}\n",
    "\n",
    "gs=GridSearchCV(XGBClassifier(),param_grid=grid, scoring='neg_mean_squared_error',cv=3,n_jobs = -1, verbose = 2)\n",
    "gs.fit(X[X_test.columns],Y)\n",
    "\n",
    "final_model = gs.best_estimator_\n",
    "print(final_model)\n",
    "\n",
    "# final_model = XGBClassifier(C=0.001, base_score=0.5, booster='gbtree', colsample_bylevel=1,\n",
    "#               colsample_bynode=1, colsample_bytree=1, gamma=0,\n",
    "#               learning_rate=0.1, max_delta_step=0, max_depth=3,\n",
    "#               min_child_weight=1, missing=None, n_estimators=100, n_jobs=1,\n",
    "#               nthread=None, objective='binary:logistic', penalty='l1',\n",
    "#               random_state=0, reg_alpha=0, reg_lambda=1, scale_pos_weight=1,\n",
    "#               seed=None, silent=None, subsample=1, verbosity=1)\n",
    "\n",
    "final_model.fit(X_train, Y_train)\n",
    "Y_pred = final_model.predict(X_val)\n",
    "\n",
    "print(\"Accuracy:\",metrics.accuracy_score(Y_val, Y_pred))\n",
    "print(metrics.confusion_matrix(Y_val, Y_pred))"
   ]
  },
  {
   "cell_type": "markdown",
   "metadata": {},
   "source": [
    "## 6) Prediction on given Test Data"
   ]
  },
  {
   "cell_type": "code",
   "execution_count": 455,
   "metadata": {},
   "outputs": [
    {
     "name": "stdout",
     "output_type": "stream",
     "text": [
      "Score on Full set:  0.9817073170731707\n",
      "------------------------------------------------------\n"
     ]
    },
    {
     "data": {
      "text/plain": [
       "<matplotlib.axes._subplots.AxesSubplot at 0x1a277e9b10>"
      ]
     },
     "execution_count": 455,
     "metadata": {},
     "output_type": "execute_result"
    },
    {
     "data": {
      "image/png": "[encoded data removed]",
      "text/plain": [
       "<Figure size 1296x432 with 1 Axes>"
      ]
     },
     "metadata": {
      "needs_background": "light"
     },
     "output_type": "display_data"
    }
   ],
   "source": [
    "final_model.fit(X[X_test.columns],Y)\n",
    "actual_predicted = final_model.predict(X_test)\n",
    "\n",
    "ind = [i for i in range(len(actual_predicted))]\n",
    "predicted_df = pd.DataFrame(actual_predicted)\n",
    "predicted_df.columns = ['playtime_forever']\n",
    "predicted_df.index.name = 'id'\n",
    "\n",
    "print('Score on Full set: ', final_model.score(X[X_test.columns],Y))\n",
    "print('------------------------------------------------------')\n",
    "\n",
    "predicted_df.plot(figsize=(18,6), grid = True, title='Picked Model')"
   ]
  },
  {
   "cell_type": "code",
   "execution_count": 456,
   "metadata": {},
   "outputs": [],
   "source": [
    "predicted_df.to_csv('classification_result.csv')"
   ]
  },
  {
   "cell_type": "code",
   "execution_count": 457,
   "metadata": {},
   "outputs": [
    {
     "data": {
      "text/plain": [
       "1.0    51\n",
       "0.0    39\n",
       "Name: playtime_forever, dtype: int64"
      ]
     },
     "execution_count": 457,
     "metadata": {},
     "output_type": "execute_result"
    }
   ],
   "source": [
    "predicted_df['playtime_forever'].value_counts()"
   ]
  },
  {
   "cell_type": "code",
   "execution_count": null,
   "metadata": {},
   "outputs": [],
   "source": []
  }
 ],
 "metadata": {
  "kernelspec": {
   "display_name": "Python 3",
   "language": "python",
   "name": "python3"
  },
  "language_info": {
   "codemirror_mode": {
    "name": "ipython",
    "version": 3
   },
   "file_extension": ".py",
   "mimetype": "text/x-python",
   "name": "python",
   "nbconvert_exporter": "python",
   "pygments_lexer": "ipython3",
   "version": "3.7.4"
  }
 },
 "nbformat": 4,
 "nbformat_minor": 2
}
